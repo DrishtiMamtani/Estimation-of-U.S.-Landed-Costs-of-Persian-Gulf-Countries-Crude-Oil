{
 "cells": [
  {
   "cell_type": "code",
   "execution_count": 1,
   "metadata": {},
   "outputs": [],
   "source": [
    "import numpy as np \n",
    "import pandas as pd \n",
    "import matplotlib.pyplot as plt\n",
    "from sklearn.model_selection import train_test_split \n",
    "from sklearn.linear_model import LinearRegression\n",
    "from sklearn import metrics\n",
    "%matplotlib inline\n",
    "plt.style.use('seaborn')\n",
    "data=pd.read_excel(\"Data.xlsx\",header=None)\n",
    "#Reading data from excel file"
   ]
  },
  {
   "cell_type": "code",
   "execution_count": 2,
   "metadata": {},
   "outputs": [],
   "source": [
    "data=data[1:]\n",
    "data=data.rename(columns={0:\"Month\",1:\"Price\"})\n",
    "#Renaming the column names"
   ]
  },
  {
   "cell_type": "code",
   "execution_count": 3,
   "metadata": {},
   "outputs": [
    {
     "data": {
      "text/html": [
       "<div>\n",
       "<style scoped>\n",
       "    .dataframe tbody tr th:only-of-type {\n",
       "        vertical-align: middle;\n",
       "    }\n",
       "\n",
       "    .dataframe tbody tr th {\n",
       "        vertical-align: top;\n",
       "    }\n",
       "\n",
       "    .dataframe thead th {\n",
       "        text-align: right;\n",
       "    }\n",
       "</style>\n",
       "<table border=\"1\" class=\"dataframe\">\n",
       "  <thead>\n",
       "    <tr style=\"text-align: right;\">\n",
       "      <th></th>\n",
       "      <th>Month</th>\n",
       "      <th>Price</th>\n",
       "    </tr>\n",
       "  </thead>\n",
       "  <tbody>\n",
       "    <tr>\n",
       "      <th>1</th>\n",
       "      <td>140</td>\n",
       "      <td>68.61</td>\n",
       "    </tr>\n",
       "    <tr>\n",
       "      <th>2</th>\n",
       "      <td>139</td>\n",
       "      <td>69.08</td>\n",
       "    </tr>\n",
       "    <tr>\n",
       "      <th>3</th>\n",
       "      <td>138</td>\n",
       "      <td>65.81</td>\n",
       "    </tr>\n",
       "    <tr>\n",
       "      <th>4</th>\n",
       "      <td>137</td>\n",
       "      <td>64.07</td>\n",
       "    </tr>\n",
       "    <tr>\n",
       "      <th>5</th>\n",
       "      <td>136</td>\n",
       "      <td>59.8</td>\n",
       "    </tr>\n",
       "  </tbody>\n",
       "</table>\n",
       "</div>"
      ],
      "text/plain": [
       "  Month  Price\n",
       "1   140  68.61\n",
       "2   139  69.08\n",
       "3   138  65.81\n",
       "4   137  64.07\n",
       "5   136   59.8"
      ]
     },
     "execution_count": 3,
     "metadata": {},
     "output_type": "execute_result"
    }
   ],
   "source": [
    "data.head()"
   ]
  },
  {
   "cell_type": "code",
   "execution_count": 4,
   "metadata": {},
   "outputs": [
    {
     "data": {
      "text/plain": [
       "53.93498220640573"
      ]
     },
     "execution_count": 4,
     "metadata": {},
     "output_type": "execute_result"
    }
   ],
   "source": [
    "mean=data['Price'].mean()\n",
    "mean"
   ]
  },
  {
   "cell_type": "code",
   "execution_count": 5,
   "metadata": {},
   "outputs": [
    {
     "data": {
      "text/plain": [
       "31.71711000756256"
      ]
     },
     "execution_count": 5,
     "metadata": {},
     "output_type": "execute_result"
    }
   ],
   "source": [
    "data['Price'].std()"
   ]
  },
  {
   "cell_type": "code",
   "execution_count": 6,
   "metadata": {},
   "outputs": [
    {
     "data": {
      "text/plain": [
       "125.28"
      ]
     },
     "execution_count": 6,
     "metadata": {},
     "output_type": "execute_result"
    }
   ],
   "source": [
    "data['Price'].max()"
   ]
  },
  {
   "cell_type": "code",
   "execution_count": 7,
   "metadata": {},
   "outputs": [
    {
     "data": {
      "text/plain": [
       "9"
      ]
     },
     "execution_count": 7,
     "metadata": {},
     "output_type": "execute_result"
    }
   ],
   "source": [
    "data['Price'].min()"
   ]
  },
  {
   "cell_type": "code",
   "execution_count": 8,
   "metadata": {},
   "outputs": [],
   "source": [
    "n=data['Price'].count()"
   ]
  },
  {
   "cell_type": "code",
   "execution_count": 63,
   "metadata": {},
   "outputs": [
    {
     "data": {
      "image/png": "[encoded data removed]",
      "text/plain": [
       "<Figure size 432x288 with 1 Axes>"
      ]
     },
     "metadata": {
      "needs_background": "light"
     },
     "output_type": "display_data"
    }
   ],
   "source": [
    "plt.plot(data['Month'], data['Price'], 'o', color='black');\n",
    "plt.xlabel('Month')\n",
    "plt.ylabel('Price')\n",
    "plt.show()\n",
    "#Plotting Price vs Month to analyze the data given\n",
    "#The month are taken from "
   ]
  },
  {
   "cell_type": "markdown",
   "metadata": {},
   "source": [
    "As we can see from the graph that it is not stationary.\n",
    "Stationary implies mean, variance and covariance is constant over periods"
   ]
  },
  {
   "cell_type": "markdown",
   "metadata": {},
   "source": [
    "To find out if the series is stationaly or not (mathematically) , we use ACF(Auto Correlation Function) plot"
   ]
  },
  {
   "cell_type": "markdown",
   "metadata": {},
   "source": [
    "Autocorrelation is correlation between the Y(t) and Y(t-1) series i.e. between data['Price'] nad data['Price'].shift(1)"
   ]
  },
  {
   "cell_type": "code",
   "execution_count": 101,
   "metadata": {},
   "outputs": [],
   "source": [
    "#To install statsmodel use this in cmd : conda install -c conda-forge statsmodels\n",
    "from statsmodels.graphics.tsaplots import plot_acf"
   ]
  },
  {
   "cell_type": "code",
   "execution_count": 102,
   "metadata": {},
   "outputs": [
    {
     "data": {
      "image/png": "[encoded data removed]",
      "text/plain": [
       "<Figure size 432x288 with 1 Axes>"
      ]
     },
     "execution_count": 102,
     "metadata": {},
     "output_type": "execute_result"
    },
    {
     "data": {
      "image/png": "[encoded data removed]",
      "text/plain": [
       "<Figure size 432x288 with 1 Axes>"
      ]
     },
     "metadata": {
      "needs_background": "light"
     },
     "output_type": "display_data"
    }
   ],
   "source": [
    "plot_acf(data['Price'].astype('float'))"
   ]
  },
  {
   "cell_type": "markdown",
   "metadata": {},
   "source": [
    "Autocorrelation for stationary time series should be 1 at x=0 and then immediately become zero or neagative"
   ]
  },
  {
   "cell_type": "code",
   "execution_count": 71,
   "metadata": {},
   "outputs": [],
   "source": [
    "#Converting series to stationary series\n",
    "data['diff1']=data['Price'].diff(periods=1)\n",
    "D1=data['diff1'][1:]"
   ]
  },
  {
   "cell_type": "code",
   "execution_count": 72,
   "metadata": {},
   "outputs": [
    {
     "data": {
      "image/png": "[encoded data removed]",
      "text/plain": [
       "<Figure size 432x288 with 1 Axes>"
      ]
     },
     "execution_count": 72,
     "metadata": {},
     "output_type": "execute_result"
    },
    {
     "data": {
      "image/png": "[encoded data removed]",
      "text/plain": [
       "<Figure size 432x288 with 1 Axes>"
      ]
     },
     "metadata": {
      "needs_background": "light"
     },
     "output_type": "display_data"
    }
   ],
   "source": [
    "plot_acf(D1.astype('float'))"
   ]
  },
  {
   "cell_type": "markdown",
   "metadata": {},
   "source": [
    "This shows that the series D1 is stationary"
   ]
  },
  {
   "cell_type": "code",
   "execution_count": 141,
   "metadata": {},
   "outputs": [
    {
     "data": {
      "image/png": "[encoded data removed]",
      "text/plain": [
       "<Figure size 432x288 with 1 Axes>"
      ]
     },
     "metadata": {
      "needs_background": "light"
     },
     "output_type": "display_data"
    }
   ],
   "source": [
    "plt.plot(data['Month'][1:], D1, 'o', color='black')\n",
    "plt.xlabel('Month')\n",
    "plt.ylabel('Price_diff')\n",
    "plt.show()"
   ]
  },
  {
   "cell_type": "markdown",
   "metadata": {},
   "source": [
    "The above graph also shows D1 is stationary as mean for different periods appears to be similar."
   ]
  },
  {
   "cell_type": "code",
   "execution_count": 164,
   "metadata": {},
   "outputs": [
    {
     "data": {
      "text/plain": [
       "Month    281\n",
       "dtype: int64"
      ]
     },
     "execution_count": 164,
     "metadata": {},
     "output_type": "execute_result"
    }
   ],
   "source": [
    "X=pd.DataFrame(data['Month'])\n",
    "Y=data['Price']\n",
    "X.count()"
   ]
  },
  {
   "cell_type": "code",
   "execution_count": 250,
   "metadata": {},
   "outputs": [
    {
     "data": {
      "text/plain": [
       "11"
      ]
     },
     "execution_count": 250,
     "metadata": {},
     "output_type": "execute_result"
    }
   ],
   "source": [
    "X_train=X[:270]\n",
    "Y_train=Y[:270]\n",
    "X_test=X[270:]\n",
    "Y_test=Y[270:]\n",
    "Y_test.count()\n",
    "#X_train"
   ]
  },
  {
   "cell_type": "code",
   "execution_count": 251,
   "metadata": {},
   "outputs": [
    {
     "data": {
      "text/plain": [
       "Month    11\n",
       "dtype: int64"
      ]
     },
     "execution_count": 251,
     "metadata": {},
     "output_type": "execute_result"
    }
   ],
   "source": [
    "X_test.count()"
   ]
  },
  {
   "cell_type": "markdown",
   "metadata": {},
   "source": [
    "AutoRegressive Model"
   ]
  },
  {
   "cell_type": "code",
   "execution_count": 253,
   "metadata": {},
   "outputs": [],
   "source": [
    "from statsmodels.tsa.ar_model import AR\n",
    "from sklearn.metrics import mean_squared_error\n",
    "model=AR(np.array(Y_train))\n",
    "f=model.fit()"
   ]
  },
  {
   "cell_type": "code",
   "execution_count": 255,
   "metadata": {},
   "outputs": [
    {
     "data": {
      "text/plain": [
       "11"
      ]
     },
     "execution_count": 255,
     "metadata": {},
     "output_type": "execute_result"
    }
   ],
   "source": [
    "predictions=f.predict(start=270,end=280)\n",
    "len(predictions)"
   ]
  },
  {
   "cell_type": "code",
   "execution_count": 256,
   "metadata": {},
   "outputs": [
    {
     "data": {
      "text/plain": [
       "[<matplotlib.lines.Line2D at 0x203ecd5a390>]"
      ]
     },
     "execution_count": 256,
     "metadata": {},
     "output_type": "execute_result"
    },
    {
     "data": {
      "image/png": "[encoded data removed]",
      "text/plain": [
       "<Figure size 432x288 with 1 Axes>"
      ]
     },
     "metadata": {
      "needs_background": "light"
     },
     "output_type": "display_data"
    }
   ],
   "source": [
    "plt.plot(np.array(Y_test), 'o', color='black')\n",
    "plt.plot(predictions, 'o', color='red')"
   ]
  },
  {
   "cell_type": "code",
   "execution_count": 259,
   "metadata": {},
   "outputs": [
    {
     "name": "stdout",
     "output_type": "stream",
     "text": [
      "1505.719127514954\n"
     ]
    }
   ],
   "source": [
    "#ARIMA has 3 parameters (p,d,q)\n",
    "#p is periods taken for autoregressive model\n",
    "#d is Integerated order\n",
    "#q is periods taken data:image/png;base64,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for moving average\n",
    "from statsmodels.tsa.arima_model import ARIMA\n",
    "model=ARIMA(np.array(Y_train),order=(1,0,0))\n",
    "f=model.fit()\n",
    "print(f.aic)\n",
    "predictions=f.forecast(steps=11)"
   ]
  },
  {
   "cell_type": "code",
   "execution_count": 260,
   "metadata": {},
   "outputs": [
    {
     "data": {
      "text/plain": [
       "11"
      ]
     },
     "execution_count": 260,
     "metadata": {},
     "output_type": "execute_result"
    }
   ],
   "source": [
    "len(predictions[0])"
   ]
  },
  {
   "cell_type": "code",
   "execution_count": 261,
   "metadata": {},
   "outputs": [
    {
     "data": {
      "text/plain": [
       "[<matplotlib.lines.Line2D at 0x203ecd81a58>]"
      ]
     },
     "execution_count": 261,
     "metadata": {},
     "output_type": "execute_result"
    },
    {
     "data": {
      "image/png": "[encoded data removed]",
      "text/plain": [
       "<Figure size 432x288 with 1 Axes>"
      ]
     },
     "metadata": {
      "needs_background": "light"
     },
     "output_type": "display_data"
    }
   ],
   "source": [
    "plt.plot(np.array(Y_test), 'o', color='black')\n",
    "plt.plot(predictions[0], 'o', color='red')"
   ]
  },
  {
   "cell_type": "code",
   "execution_count": 267,
   "metadata": {},
   "outputs": [
    {
     "name": "stdout",
     "output_type": "stream",
     "text": [
      "1295.664571216636\n"
     ]
    }
   ],
   "source": [
    "from statsmodels.tsa.arima_model import ARIMA\n",
    "model=ARIMA(np.array(Y_train),order=(1,1,0))\n",
    "f=model.fit()\n",
    "print(f.aic)\n",
    "predictions=f.forecast(steps=11)"
   ]
  },
  {
   "cell_type": "code",
   "execution_count": 268,
   "metadata": {},
   "outputs": [
    {
     "data": {
      "text/plain": [
       "[<matplotlib.lines.Line2D at 0x203e9be6e10>]"
      ]
     },
     "execution_count": 268,
     "metadata": {},
     "output_type": "execute_result"
    },
    {
     "data": {
      "image/png": "[encoded data removed]",
      "text/plain": [
       "<Figure size 432x288 with 1 Axes>"
      ]
     },
     "metadata": {
      "needs_background": "light"
     },
     "output_type": "display_data"
    }
   ],
   "source": [
    "plt.plot(np.array(Y_test), 'o', color='black')\n",
    "plt.plot(predictions[0], 'o', color='red')"
   ]
  },
  {
   "cell_type": "code",
   "execution_count": 269,
   "metadata": {},
   "outputs": [
    {
     "name": "stdout",
     "output_type": "stream",
     "text": [
      "1286.3920114979205\n"
     ]
    }
   ],
   "source": [
    "from statsmodels.tsa.arima_model import ARIMA\n",
    "model=ARIMA(np.array(Y_train),order=(1,1,1))\n",
    "f=model.fit()\n",
    "print(f.aic)\n",
    "predictions=f.forecast(steps=11)"
   ]
  },
  {
   "cell_type": "code",
   "execution_count": 270,
   "metadata": {},
   "outputs": [
    {
     "data": {
      "text/plain": [
       "[<matplotlib.lines.Line2D at 0x203e9c3a1d0>]"
      ]
     },
     "execution_count": 270,
     "metadata": {},
     "output_type": "execute_result"
    },
    {
     "data": {
      "image/png": "[encoded data removed]",
      "text/plain": [
       "<Figure size 432x288 with 1 Axes>"
      ]
     },
     "metadata": {
      "needs_background": "light"
     },
     "output_type": "display_data"
    }
   ],
   "source": [
    "plt.plot(np.array(Y_test), 'o', color='black')\n",
    "plt.plot(predictions[0], 'o', color='red')"
   ]
  },
  {
   "cell_type": "code",
   "execution_count": 276,
   "metadata": {},
   "outputs": [
    {
     "data": {
      "text/plain": [
       "[(0, 0, 0),\n",
       " (0, 0, 1),\n",
       " (0, 0, 2),\n",
       " (0, 0, 3),\n",
       " (0, 0, 4),\n",
       " (0, 1, 0),\n",
       " (0, 1, 1),\n",
       " (0, 1, 2),\n",
       " (0, 1, 3),\n",
       " (0, 1, 4),\n",
       " (0, 2, 0),\n",
       " (0, 2, 1),\n",
       " (0, 2, 2),\n",
       " (0, 2, 3),\n",
       " (0, 2, 4),\n",
       " (0, 3, 0),\n",
       " (0, 3, 1),\n",
       " (0, 3, 2),\n",
       " (0, 3, 3),\n",
       " (0, 3, 4),\n",
       " (0, 4, 0),\n",
       " (0, 4, 1),\n",
       " (0, 4, 2),\n",
       " (0, 4, 3),\n",
       " (0, 4, 4),\n",
       " (1, 0, 0),\n",
       " (1, 0, 1),\n",
       " (1, 0, 2),\n",
       " (1, 0, 3),\n",
       " (1, 0, 4),\n",
       " (1, 1, 0),\n",
       " (1, 1, 1),\n",
       " (1, 1, 2),\n",
       " (1, 1, 3),\n",
       " (1, 1, 4),\n",
       " (1, 2, 0),\n",
       " (1, 2, 1),\n",
       " (1, 2, 2),\n",
       " (1, 2, 3),\n",
       " (1, 2, 4),\n",
       " (1, 3, 0),\n",
       " (1, 3, 1),\n",
       " (1, 3, 2),\n",
       " (1, 3, 3),\n",
       " (1, 3, 4),\n",
       " (1, 4, 0),\n",
       " (1, 4, 1),\n",
       " (1, 4, 2),\n",
       " (1, 4, 3),\n",
       " (1, 4, 4),\n",
       " (2, 0, 0),\n",
       " (2, 0, 1),\n",
       " (2, 0, 2),\n",
       " (2, 0, 3),\n",
       " (2, 0, 4),\n",
       " (2, 1, 0),\n",
       " (2, 1, 1),\n",
       " (2, 1, 2),\n",
       " (2, 1, 3),\n",
       " (2, 1, 4),\n",
       " (2, 2, 0),\n",
       " (2, 2, 1),\n",
       " (2, 2, 2),\n",
       " (2, 2, 3),\n",
       " (2, 2, 4),\n",
       " (2, 3, 0),\n",
       " (2, 3, 1),\n",
       " (2, 3, 2),\n",
       " (2, 3, 3),\n",
       " (2, 3, 4),\n",
       " (2, 4, 0),\n",
       " (2, 4, 1),\n",
       " (2, 4, 2),\n",
       " (2, 4, 3),\n",
       " (2, 4, 4),\n",
       " (3, 0, 0),\n",
       " (3, 0, 1),\n",
       " (3, 0, 2),\n",
       " (3, 0, 3),\n",
       " (3, 0, 4),\n",
       " (3, 1, 0),\n",
       " (3, 1, 1),\n",
       " (3, 1, 2),\n",
       " (3, 1, 3),\n",
       " (3, 1, 4),\n",
       " (3, 2, 0),\n",
       " (3, 2, 1),\n",
       " (3, 2, 2),\n",
       " (3, 2, 3),\n",
       " (3, 2, 4),\n",
       " (3, 3, 0),\n",
       " (3, 3, 1),\n",
       " (3, 3, 2),\n",
       " (3, 3, 3),\n",
       " (3, 3, 4),\n",
       " (3, 4, 0),\n",
       " (3, 4, 1),\n",
       " (3, 4, 2),\n",
       " (3, 4, 3),\n",
       " (3, 4, 4),\n",
       " (4, 0, 0),\n",
       " (4, 0, 1),\n",
       " (4, 0, 2),\n",
       " (4, 0, 3),\n",
       " (4, 0, 4),\n",
       " (4, 1, 0),\n",
       " (4, 1, 1),\n",
       " (4, 1, 2),\n",
       " (4, 1, 3),\n",
       " (4, 1, 4),\n",
       " (4, 2, 0),\n",
       " (4, 2, 1),\n",
       " (4, 2, 2),\n",
       " (4, 2, 3),\n",
       " (4, 2, 4),\n",
       " (4, 3, 0),\n",
       " (4, 3, 1),\n",
       " (4, 3, 2),\n",
       " (4, 3, 3),\n",
       " (4, 3, 4),\n",
       " (4, 4, 0),\n",
       " (4, 4, 1),\n",
       " (4, 4, 2),\n",
       " (4, 4, 3),\n",
       " (4, 4, 4)]"
      ]
     },
     "execution_count": 276,
     "metadata": {},
     "output_type": "execute_result"
    }
   ],
   "source": [
    "import itertools\n",
    "p=d=q=range(0,5)\n",
    "pdq=list(itertools.product(p,d,q))\n",
    "pdq"
   ]
  },
  {
   "cell_type": "code",
   "execution_count": 293,
   "metadata": {},
   "outputs": [
    {
     "name": "stdout",
     "output_type": "stream",
     "text": [
      "2633.961293890095\n",
      "0.7170002600606689\n",
      "2279.264296244795\n",
      "1232.6186476242674\n",
      "1494.880378675311\n",
      "1152.9482889401002\n",
      "1349.6320141460676\n",
      "1.7915898825459722\n",
      "1280.5606771890743\n",
      "1.5820758942152755\n",
      "1277.0944715056771\n",
      "3.513332198888189\n",
      "1328.439680043711\n",
      "5.214174624412326\n",
      "1328.631949464996\n",
      "104.01301672497424\n",
      "1330.6319438736055\n",
      "85.85383663048823\n",
      "1292.7649877116655\n",
      "85.85987648404526\n",
      "1282.3772353121328\n",
      "0.6271220371840399\n",
      "1505.719127514954\n",
      "0.685711240629076\n",
      "1359.7422823999086\n",
      "15.205404731450493\n",
      "1299.8536464362421\n",
      "18.793878814465128\n",
      "1288.8905817195464\n",
      "32.55050939392755\n",
      "1284.342388428117\n",
      "45.69978314265652\n",
      "1295.664571216636\n",
      "65.56069281184537\n",
      "1286.3920114979205\n",
      "15.669961498046975\n",
      "1278.6790733568398\n",
      "7.1159124457121035\n",
      "1279.2904799335229\n",
      "5.685916871045503\n",
      "1328.6973753783777\n",
      "5.006201681342247\n",
      "1296.8511584572036\n",
      "87.14074736794431\n",
      "1287.786740802882\n",
      "10.1305563716716\n",
      "1280.225951855596\n",
      "2.687573048048851\n",
      "1280.8751679520828\n",
      "1.635886078358218\n",
      "1300.4780125405812\n",
      "1.2542455935072072\n",
      "1292.6376130278263\n",
      "125.46068717129702\n",
      "1285.7569384702856\n",
      "86.15982654992996\n",
      "1286.576425433026\n",
      "71.35396780478683\n",
      "1286.2865497044118\n",
      "66.36573709018504\n",
      "1280.0885372023408\n",
      "64.1152529090049\n",
      "1272.9109575935624\n",
      "3.2716596735562335\n",
      "1274.804962647142\n",
      "0.7170002600606689\n",
      "1330.324819174281\n",
      "0.834474170609132\n",
      "1281.71483079968\n",
      "81.60472189172748\n",
      "1275.061846439518\n",
      "0.7112821966035736\n",
      "1276.9140406492036\n",
      "2.5460050023116647\n",
      "1277.5400087896605\n",
      "2.0150980151030455\n",
      "1282.3290007873234\n",
      "3.047913577255768\n",
      "1284.0558134053847\n",
      "28.344945302290952\n",
      "1273.0371886814876\n",
      "31.989423514370436\n",
      "1274.7246674013002\n",
      "1.8633707129878028\n",
      "1276.0216673644054\n",
      "0.9712902693937292\n",
      "1321.4271915182494\n",
      "0.9980857669512786\n",
      "1274.9667943318664\n",
      "78.96965655238327\n",
      "1276.7920370633713\n",
      "0.7985043159346558\n",
      "1278.0897502911407\n",
      "1.5506385958459712\n",
      "1279.8719984946297\n",
      "3.3316297913090747\n",
      "1283.7166258381542\n",
      "2.5135707464577153\n",
      "1285.213634770958\n",
      "38.88859376499784\n",
      "1274.9721346615693\n",
      "33.25295534332832\n",
      "1274.3271715518563\n",
      "1.70432671017197\n",
      "1279.5738968935825\n",
      "2.5340306467023144\n",
      "1274.2209336507804\n",
      "3.2740346892907466\n",
      "1318.787089765312\n",
      "0.7409460924128635\n",
      "1276.922483408261\n",
      "73.67384714755597\n",
      "1278.962386873139\n",
      "0.8950084520406653\n",
      "1279.4742177121695\n",
      "0.8375638357833299\n"
     ]
    }
   ],
   "source": [
    "#All values of p,d,q are not correct\n",
    "import warnings\n",
    "warnings.filterwarnings('ignore')\n",
    "minimum=10000000\n",
    "for i in pdq:\n",
    "    try:\n",
    "        model=ARIMA(np.array(Y_train),order=i)\n",
    "        f=model.fit()\n",
    "        print(f.aic)\n",
    "        print(mean_squared_error(Y_test,predictions[0]))\n",
    "        if(minimum>f.aic):\n",
    "            minimum=f.aic\n",
    "            param=i\n",
    "        predictions=f.forecast(steps=11)\n",
    "    except:\n",
    "        continue\n"
   ]
  },
  {
   "cell_type": "code",
   "execution_count": 288,
   "metadata": {},
   "outputs": [
    {
     "data": {
      "text/plain": [
       "(2, 1, 1)"
      ]
     },
     "execution_count": 288,
     "metadata": {},
     "output_type": "execute_result"
    }
   ],
   "source": [
    "param"
   ]
  },
  {
   "cell_type": "code",
   "execution_count": 289,
   "metadata": {},
   "outputs": [
    {
     "data": {
      "text/plain": [
       "1272.9109575935624"
      ]
     },
     "execution_count": 289,
     "metadata": {},
     "output_type": "execute_result"
    }
   ],
   "source": [
    "minimum"
   ]
  },
  {
   "cell_type": "code",
   "execution_count": 290,
   "metadata": {},
   "outputs": [
    {
     "name": "stdout",
     "output_type": "stream",
     "text": [
      "1272.9109575935624\n"
     ]
    }
   ],
   "source": [
    "from statsmodels.tsa.arima_model import ARIMA\n",
    "model=ARIMA(np.array(Y_train),order=(2,1,1))\n",
    "f=model.fit()\n",
    "print(f.aic)\n",
    "predictions=f.forecast(steps=11)"
   ]
  },
  {
   "cell_type": "code",
   "execution_count": 291,
   "metadata": {},
   "outputs": [
    {
     "data": {
      "text/plain": [
       "[<matplotlib.lines.Line2D at 0x203e9d43278>]"
      ]
     },
     "execution_count": 291,
     "metadata": {},
     "output_type": "execute_result"
    },
    {
     "data": {
      "image/png": "[encoded data removed]",
      "text/plain": [
       "<Figure size 432x288 with 1 Axes>"
      ]
     },
     "metadata": {
      "needs_background": "light"
     },
     "output_type": "display_data"
    }
   ],
   "source": [
    "plt.plot(np.array(Y_test), 'o', color='black')\n",
    "plt.plot(predictions[0], 'o', color='red')"
   ]
  },
  {
   "cell_type": "code",
   "execution_count": 292,
   "metadata": {},
   "outputs": [
    {
     "data": {
      "text/plain": [
       "0.7170002600606689"
      ]
     },
     "execution_count": 292,
     "metadata": {},
     "output_type": "execute_result"
    }
   ],
   "source": [
    "mean_squared_error(Y_test,predictions[0])"
   ]
  }
 ],
 "metadata": {
  "kernelspec": {
   "display_name": "Python 3",
   "language": "python",
   "name": "python3"
  },
  "language_info": {
   "codemirror_mode": {
    "name": "ipython",
    "version": 3
   },
   "file_extension": ".py",
   "mimetype": "text/x-python",
   "name": "python",
   "nbconvert_exporter": "python",
   "pygments_lexer": "ipython3",
   "version": "3.7.3"
  }
 },
 "nbformat": 4,
 "nbformat_minor": 2
}
